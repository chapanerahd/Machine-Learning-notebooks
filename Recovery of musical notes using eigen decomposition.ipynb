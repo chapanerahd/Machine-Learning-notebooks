{
 "cells": [
  {
   "cell_type": "markdown",
   "metadata": {},
   "source": [
    "## Recovery of notes using eigen decomposition"
   ]
  },
  {
   "cell_type": "code",
   "execution_count": 1,
   "metadata": {
    "collapsed": true
   },
   "outputs": [],
   "source": [
    "import numpy as np\n",
    "import matplotlib.pyplot as plt\n",
    "import scipy.io as sio"
   ]
  },
  {
   "cell_type": "markdown",
   "metadata": {},
   "source": [
    "#### Plotting the musical notes"
   ]
  },
  {
   "cell_type": "code",
   "execution_count": 2,
   "metadata": {
    "collapsed": false
   },
   "outputs": [
    {
     "data": {
      "image/png": "[encoded data removed]",
      "text/plain": [
       "<matplotlib.figure.Figure at 0x21d5e22f860>"
      ]
     },
     "metadata": {},
     "output_type": "display_data"
    }
   ],
   "source": [
    "mat = sio.loadmat('flute.mat')\n",
    "mat = np.asarray(mat['X'])\n",
    "plt.imshow(mat, cmap='inferno')\n",
    "plt.title(\"Intensity of Harmonics\")\n",
    "plt.rcParams[\"figure.figsize\"] = [16,3.5]\n",
    "plt.show()"
   ]
  },
  {
   "cell_type": "markdown",
   "metadata": {},
   "source": [
    "It seems there are two musical notes. "
   ]
  },
  {
   "cell_type": "code",
   "execution_count": 3,
   "metadata": {
    "collapsed": true
   },
   "outputs": [],
   "source": [
    "def cov_matrix(matrix):\n",
    "    \"\"\"\n",
    "    Takes any matrix\n",
    "    and returns its covariance matrix\n",
    "    \"\"\"\n",
    "    sample = matrix.shape[0] -1\n",
    "    centered_matrix = (np.transpose(matrix) - np.mean(matrix, axis = 1)).transpose()\n",
    "    covmat = np.dot(centered_matrix, centered_matrix.transpose()) / sample\n",
    "    return covmat"
   ]
  },
  {
   "cell_type": "code",
   "execution_count": 4,
   "metadata": {
    "collapsed": true
   },
   "outputs": [],
   "source": [
    "def power_iteration(matrix, n):\n",
    "    \"\"\"\n",
    "    Takes a matrix and number of iteration\n",
    "    and returns its greatest eigenvalue and eigenvector\n",
    "    \"\"\"\n",
    "    x = matrix\n",
    "    y = np.random.rand(x.shape[0],1)\n",
    "    temp = np.dot(x, y)\n",
    "    for i in range(n):\n",
    "        temp = np.dot(x, temp)\n",
    "        temp_norm = np.linalg.norm(temp)\n",
    "        temp = temp / temp_norm\n",
    "    print(temp_norm)\n",
    "    print(temp)\n",
    "    return temp_norm, temp"
   ]
  },
  {
   "cell_type": "code",
   "execution_count": 5,
   "metadata": {
    "collapsed": false
   },
   "outputs": [
    {
     "name": "stdout",
     "output_type": "stream",
     "text": [
      "942.6658058\n",
      "[[  2.58548929e-04]\n",
      " [  2.08364483e-04]\n",
      " [  2.48692642e-04]\n",
      " [  2.07229756e-04]\n",
      " [  2.51180865e-04]\n",
      " [  2.27816299e-04]\n",
      " [  2.12323554e-04]\n",
      " [  1.53023454e-04]\n",
      " [  1.21632397e-04]\n",
      " [  1.41146142e-04]\n",
      " [  8.50193180e-05]\n",
      " [  1.63862217e-04]\n",
      " [  1.94950152e-04]\n",
      " [  9.98529936e-05]\n",
      " [  1.74490433e-04]\n",
      " [  2.60591162e-04]\n",
      " [  1.83548470e-04]\n",
      " [  1.90301077e-04]\n",
      " [  8.87810787e-05]\n",
      " [ -1.12332552e-03]\n",
      " [ -8.87768316e-03]\n",
      " [ -1.06943221e-02]\n",
      " [ -2.75655339e-03]\n",
      " [  1.29573188e-04]\n",
      " [  1.34334849e-03]\n",
      " [  1.06428656e-02]\n",
      " [  4.78134318e-02]\n",
      " [  4.62951703e-02]\n",
      " [  9.28729768e-03]\n",
      " [  1.32838166e-03]\n",
      " [  3.61329119e-04]\n",
      " [  2.38352753e-04]\n",
      " [  1.14997481e-04]\n",
      " [  9.98197244e-05]\n",
      " [  1.42066601e-04]\n",
      " [  8.38642322e-05]\n",
      " [  4.61211353e-05]\n",
      " [  1.22458897e-04]\n",
      " [  1.48434260e-04]\n",
      " [  6.17727880e-05]\n",
      " [  2.51656939e-05]\n",
      " [  4.49411927e-05]\n",
      " [  4.38807359e-05]\n",
      " [  4.12924085e-05]\n",
      " [  7.44891511e-05]\n",
      " [  7.85681115e-05]\n",
      " [  5.07805060e-05]\n",
      " [  5.27986338e-05]\n",
      " [  9.53290613e-05]\n",
      " [  2.85301833e-04]\n",
      " [  3.75212643e-04]\n",
      " [  1.54486827e-04]\n",
      " [  1.31446738e-04]\n",
      " [  3.25583563e-04]\n",
      " [  1.99657682e-04]\n",
      " [ -3.28567787e-03]\n",
      " [ -7.46305028e-03]\n",
      " [ -3.87003682e-03]\n",
      " [  1.48660811e-03]\n",
      " [  6.29761242e-02]\n",
      " [  1.19201881e-01]\n",
      " [  5.78273840e-02]\n",
      " [  1.64083397e-03]\n",
      " [  4.69675276e-04]\n",
      " [  2.14114191e-04]\n",
      " [  1.45460086e-04]\n",
      " [  7.25115119e-05]\n",
      " [  1.50837028e-05]\n",
      " [  4.49547752e-05]\n",
      " [  8.75326005e-05]\n",
      " [  2.22369277e-04]\n",
      " [  4.59564947e-04]\n",
      " [  3.89496583e-04]\n",
      " [  1.92819833e-04]\n",
      " [  1.06665080e-04]\n",
      " [  8.52582386e-05]\n",
      " [  9.54994556e-05]\n",
      " [  1.17766498e-04]\n",
      " [  1.15773229e-04]\n",
      " [  1.24527584e-04]\n",
      " [  1.26286036e-04]\n",
      " [  1.74477909e-04]\n",
      " [  1.79922033e-04]\n",
      " [  2.13228119e-04]\n",
      " [  2.60374629e-04]\n",
      " [  2.40377680e-04]\n",
      " [  5.11527144e-04]\n",
      " [  5.60966826e-04]\n",
      " [  4.97062269e-04]\n",
      " [ -1.25955335e-04]\n",
      " [ -1.81977878e-02]\n",
      " [ -1.13572677e-01]\n",
      " [  8.60695311e-03]\n",
      " [  6.75891306e-01]\n",
      " [  6.94748392e-01]\n",
      " [  1.42450825e-01]\n",
      " [  2.00252916e-02]\n",
      " [  6.18951861e-03]\n",
      " [  3.42153684e-03]\n",
      " [  1.66973276e-03]\n",
      " [  1.03410287e-03]\n",
      " [  7.47522756e-04]\n",
      " [  4.12049652e-04]\n",
      " [  3.46633183e-04]\n",
      " [  2.65474786e-04]\n",
      " [  1.83296485e-04]\n",
      " [  1.81628878e-04]\n",
      " [  1.22335212e-04]\n",
      " [  1.15901905e-04]\n",
      " [  1.14925251e-04]\n",
      " [  1.23295447e-04]\n",
      " [  1.75148674e-04]\n",
      " [  2.05883270e-04]\n",
      " [  1.74828565e-04]\n",
      " [  1.46187545e-04]\n",
      " [  8.37350628e-05]\n",
      " [  7.22740966e-05]\n",
      " [  5.70307723e-05]\n",
      " [  4.99533050e-05]\n",
      " [  3.82751854e-05]\n",
      " [  5.13506610e-05]\n",
      " [  3.86687009e-05]\n",
      " [  2.77334968e-05]\n",
      " [  2.16808140e-05]\n",
      " [  1.72495576e-05]\n",
      " [  1.08793573e-05]\n",
      " [  5.10614692e-06]\n",
      " [  9.20085523e-06]]\n",
      "149.990594437\n",
      "[[  2.75897198e-04]\n",
      " [  3.11084820e-04]\n",
      " [  2.08577839e-04]\n",
      " [  1.46796321e-04]\n",
      " [  3.16917969e-04]\n",
      " [  2.74642396e-04]\n",
      " [  1.86148825e-04]\n",
      " [  2.28128372e-04]\n",
      " [  2.23990779e-04]\n",
      " [  2.41727505e-04]\n",
      " [  3.74988304e-04]\n",
      " [  3.74091683e-04]\n",
      " [  3.05117938e-04]\n",
      " [  4.00642267e-04]\n",
      " [  2.96012488e-04]\n",
      " [  3.21042252e-04]\n",
      " [  3.79931244e-04]\n",
      " [  4.03849306e-04]\n",
      " [  1.14792995e-03]\n",
      " [  6.53615213e-03]\n",
      " [  4.80493458e-02]\n",
      " [  5.89232703e-02]\n",
      " [  1.67405397e-02]\n",
      " [  1.74326151e-03]\n",
      " [  8.16556896e-04]\n",
      " [  1.64482935e-03]\n",
      " [  6.39769083e-03]\n",
      " [  6.88125365e-03]\n",
      " [  1.95073194e-03]\n",
      " [  4.51085896e-04]\n",
      " [  3.26832806e-04]\n",
      " [  3.46715380e-04]\n",
      " [  3.46179886e-04]\n",
      " [  4.19899388e-04]\n",
      " [  3.07899436e-04]\n",
      " [  3.20684557e-04]\n",
      " [  3.12642540e-04]\n",
      " [  2.77220724e-04]\n",
      " [  2.59863956e-04]\n",
      " [  2.37159936e-04]\n",
      " [  3.13534003e-04]\n",
      " [  3.61612959e-04]\n",
      " [  2.85688616e-04]\n",
      " [  2.85904200e-04]\n",
      " [  3.37320345e-04]\n",
      " [  3.32370524e-04]\n",
      " [  4.63733385e-04]\n",
      " [  6.64930501e-04]\n",
      " [  5.06141676e-04]\n",
      " [  6.47715928e-04]\n",
      " [  7.27233617e-04]\n",
      " [  5.62235060e-04]\n",
      " [  4.08596603e-04]\n",
      " [  3.40086118e-04]\n",
      " [  7.00280037e-04]\n",
      " [  1.71148699e-02]\n",
      " [  3.87605658e-02]\n",
      " [  2.23188431e-02]\n",
      " [  8.28628651e-04]\n",
      " [ -2.90417228e-03]\n",
      " [ -2.31011509e-03]\n",
      " [  1.16255530e-03]\n",
      " [  7.11733772e-05]\n",
      " [  2.12884322e-04]\n",
      " [  2.61694738e-04]\n",
      " [  3.29829567e-04]\n",
      " [  5.02805523e-04]\n",
      " [  8.07276401e-04]\n",
      " [  7.81492824e-04]\n",
      " [  5.17704062e-04]\n",
      " [  3.97929944e-04]\n",
      " [  2.64101234e-04]\n",
      " [  1.98889478e-04]\n",
      " [  1.16818154e-04]\n",
      " [  1.21143216e-04]\n",
      " [  1.69622054e-04]\n",
      " [  1.78973753e-04]\n",
      " [  1.46804503e-04]\n",
      " [  1.45217655e-04]\n",
      " [  1.94406053e-04]\n",
      " [  1.86071721e-04]\n",
      " [  2.84833697e-04]\n",
      " [  3.33869282e-04]\n",
      " [  4.52020616e-04]\n",
      " [  6.80215542e-04]\n",
      " [  9.54291628e-04]\n",
      " [  1.65240541e-03]\n",
      " [  2.83735742e-03]\n",
      " [  6.34962685e-03]\n",
      " [  1.84425324e-02]\n",
      " [  1.21433731e-01]\n",
      " [  6.75070496e-01]\n",
      " [  7.11497731e-01]\n",
      " [  1.19286996e-01]\n",
      " [ -1.08014634e-02]\n",
      " [  5.88036197e-03]\n",
      " [  2.30494570e-03]\n",
      " [  1.17748358e-03]\n",
      " [  1.11554154e-03]\n",
      " [  6.27550584e-04]\n",
      " [  4.72044225e-04]\n",
      " [  3.92322582e-04]\n",
      " [  2.56981403e-04]\n",
      " [  2.20438804e-04]\n",
      " [  1.80336540e-04]\n",
      " [  1.42791264e-04]\n",
      " [  1.38397061e-04]\n",
      " [  1.23067402e-04]\n",
      " [  1.09140381e-04]\n",
      " [  1.29709726e-04]\n",
      " [  1.83462249e-04]\n",
      " [  2.69219437e-04]\n",
      " [  4.23982106e-04]\n",
      " [  3.18986949e-04]\n",
      " [  1.56502838e-04]\n",
      " [  1.05412024e-04]\n",
      " [  6.37201726e-05]\n",
      " [  5.74665416e-05]\n",
      " [  5.83759329e-05]\n",
      " [  4.06567324e-05]\n",
      " [  3.67735143e-05]\n",
      " [  3.67340545e-05]\n",
      " [  2.96438252e-05]\n",
      " [  2.51520384e-05]\n",
      " [  1.96464026e-05]\n",
      " [  1.11741021e-05]\n",
      " [  2.70793589e-05]\n",
      " [  5.57666199e-05]]\n",
      "[[  2.58548929e-04]\n",
      " [  2.08364483e-04]\n",
      " [  2.48692642e-04]\n",
      " [  2.07229756e-04]\n",
      " [  2.51180865e-04]\n",
      " [  2.27816299e-04]\n",
      " [  2.12323554e-04]\n",
      " [  1.53023454e-04]\n",
      " [  1.21632397e-04]\n",
      " [  1.41146142e-04]\n",
      " [  8.50193180e-05]\n",
      " [  1.63862217e-04]\n",
      " [  1.94950152e-04]\n",
      " [  9.98529936e-05]\n",
      " [  1.74490433e-04]\n",
      " [  2.60591162e-04]\n",
      " [  1.83548470e-04]\n",
      " [  1.90301077e-04]\n",
      " [  8.87810787e-05]\n",
      " [ -1.12332552e-03]\n",
      " [ -8.87768316e-03]\n",
      " [ -1.06943221e-02]\n",
      " [ -2.75655339e-03]\n",
      " [  1.29573188e-04]\n",
      " [  1.34334849e-03]\n",
      " [  1.06428656e-02]\n",
      " [  4.78134318e-02]\n",
      " [  4.62951703e-02]\n",
      " [  9.28729768e-03]\n",
      " [  1.32838166e-03]\n",
      " [  3.61329119e-04]\n",
      " [  2.38352753e-04]\n",
      " [  1.14997481e-04]\n",
      " [  9.98197244e-05]\n",
      " [  1.42066601e-04]\n",
      " [  8.38642322e-05]\n",
      " [  4.61211353e-05]\n",
      " [  1.22458897e-04]\n",
      " [  1.48434260e-04]\n",
      " [  6.17727880e-05]\n",
      " [  2.51656939e-05]\n",
      " [  4.49411927e-05]\n",
      " [  4.38807359e-05]\n",
      " [  4.12924085e-05]\n",
      " [  7.44891511e-05]\n",
      " [  7.85681115e-05]\n",
      " [  5.07805060e-05]\n",
      " [  5.27986338e-05]\n",
      " [  9.53290613e-05]\n",
      " [  2.85301833e-04]\n",
      " [  3.75212643e-04]\n",
      " [  1.54486827e-04]\n",
      " [  1.31446738e-04]\n",
      " [  3.25583563e-04]\n",
      " [  1.99657682e-04]\n",
      " [ -3.28567787e-03]\n",
      " [ -7.46305028e-03]\n",
      " [ -3.87003682e-03]\n",
      " [  1.48660811e-03]\n",
      " [  6.29761242e-02]\n",
      " [  1.19201881e-01]\n",
      " [  5.78273840e-02]\n",
      " [  1.64083397e-03]\n",
      " [  4.69675276e-04]\n",
      " [  2.14114191e-04]\n",
      " [  1.45460086e-04]\n",
      " [  7.25115119e-05]\n",
      " [  1.50837028e-05]\n",
      " [  4.49547752e-05]\n",
      " [  8.75326005e-05]\n",
      " [  2.22369277e-04]\n",
      " [  4.59564947e-04]\n",
      " [  3.89496583e-04]\n",
      " [  1.92819833e-04]\n",
      " [  1.06665080e-04]\n",
      " [  8.52582386e-05]\n",
      " [  9.54994556e-05]\n",
      " [  1.17766498e-04]\n",
      " [  1.15773229e-04]\n",
      " [  1.24527584e-04]\n",
      " [  1.26286036e-04]\n",
      " [  1.74477909e-04]\n",
      " [  1.79922033e-04]\n",
      " [  2.13228119e-04]\n",
      " [  2.60374629e-04]\n",
      " [  2.40377680e-04]\n",
      " [  5.11527144e-04]\n",
      " [  5.60966826e-04]\n",
      " [  4.97062269e-04]\n",
      " [ -1.25955335e-04]\n",
      " [ -1.81977878e-02]\n",
      " [ -1.13572677e-01]\n",
      " [  8.60695311e-03]\n",
      " [  6.75891306e-01]\n",
      " [  6.94748392e-01]\n",
      " [  1.42450825e-01]\n",
      " [  2.00252916e-02]\n",
      " [  6.18951861e-03]\n",
      " [  3.42153684e-03]\n",
      " [  1.66973276e-03]\n",
      " [  1.03410287e-03]\n",
      " [  7.47522756e-04]\n",
      " [  4.12049652e-04]\n",
      " [  3.46633183e-04]\n",
      " [  2.65474786e-04]\n",
      " [  1.83296485e-04]\n",
      " [  1.81628878e-04]\n",
      " [  1.22335212e-04]\n",
      " [  1.15901905e-04]\n",
      " [  1.14925251e-04]\n",
      " [  1.23295447e-04]\n",
      " [  1.75148674e-04]\n",
      " [  2.05883270e-04]\n",
      " [  1.74828565e-04]\n",
      " [  1.46187545e-04]\n",
      " [  8.37350628e-05]\n",
      " [  7.22740966e-05]\n",
      " [  5.70307723e-05]\n",
      " [  4.99533050e-05]\n",
      " [  3.82751854e-05]\n",
      " [  5.13506610e-05]\n",
      " [  3.86687009e-05]\n",
      " [  2.77334968e-05]\n",
      " [  2.16808140e-05]\n",
      " [  1.72495576e-05]\n",
      " [  1.08793573e-05]\n",
      " [  5.10614692e-06]\n",
      " [  9.20085523e-06]] [[  2.75897198e-04]\n",
      " [  3.11084820e-04]\n",
      " [  2.08577839e-04]\n",
      " [  1.46796321e-04]\n",
      " [  3.16917969e-04]\n",
      " [  2.74642396e-04]\n",
      " [  1.86148825e-04]\n",
      " [  2.28128372e-04]\n",
      " [  2.23990779e-04]\n",
      " [  2.41727505e-04]\n",
      " [  3.74988304e-04]\n",
      " [  3.74091683e-04]\n",
      " [  3.05117938e-04]\n",
      " [  4.00642267e-04]\n",
      " [  2.96012488e-04]\n",
      " [  3.21042252e-04]\n",
      " [  3.79931244e-04]\n",
      " [  4.03849306e-04]\n",
      " [  1.14792995e-03]\n",
      " [  6.53615213e-03]\n",
      " [  4.80493458e-02]\n",
      " [  5.89232703e-02]\n",
      " [  1.67405397e-02]\n",
      " [  1.74326151e-03]\n",
      " [  8.16556896e-04]\n",
      " [  1.64482935e-03]\n",
      " [  6.39769083e-03]\n",
      " [  6.88125365e-03]\n",
      " [  1.95073194e-03]\n",
      " [  4.51085896e-04]\n",
      " [  3.26832806e-04]\n",
      " [  3.46715380e-04]\n",
      " [  3.46179886e-04]\n",
      " [  4.19899388e-04]\n",
      " [  3.07899436e-04]\n",
      " [  3.20684557e-04]\n",
      " [  3.12642540e-04]\n",
      " [  2.77220724e-04]\n",
      " [  2.59863956e-04]\n",
      " [  2.37159936e-04]\n",
      " [  3.13534003e-04]\n",
      " [  3.61612959e-04]\n",
      " [  2.85688616e-04]\n",
      " [  2.85904200e-04]\n",
      " [  3.37320345e-04]\n",
      " [  3.32370524e-04]\n",
      " [  4.63733385e-04]\n",
      " [  6.64930501e-04]\n",
      " [  5.06141676e-04]\n",
      " [  6.47715928e-04]\n",
      " [  7.27233617e-04]\n",
      " [  5.62235060e-04]\n",
      " [  4.08596603e-04]\n",
      " [  3.40086118e-04]\n",
      " [  7.00280037e-04]\n",
      " [  1.71148699e-02]\n",
      " [  3.87605658e-02]\n",
      " [  2.23188431e-02]\n",
      " [  8.28628651e-04]\n",
      " [ -2.90417228e-03]\n",
      " [ -2.31011509e-03]\n",
      " [  1.16255530e-03]\n",
      " [  7.11733772e-05]\n",
      " [  2.12884322e-04]\n",
      " [  2.61694738e-04]\n",
      " [  3.29829567e-04]\n",
      " [  5.02805523e-04]\n",
      " [  8.07276401e-04]\n",
      " [  7.81492824e-04]\n",
      " [  5.17704062e-04]\n",
      " [  3.97929944e-04]\n",
      " [  2.64101234e-04]\n",
      " [  1.98889478e-04]\n",
      " [  1.16818154e-04]\n",
      " [  1.21143216e-04]\n",
      " [  1.69622054e-04]\n",
      " [  1.78973753e-04]\n",
      " [  1.46804503e-04]\n",
      " [  1.45217655e-04]\n",
      " [  1.94406053e-04]\n",
      " [  1.86071721e-04]\n",
      " [  2.84833697e-04]\n",
      " [  3.33869282e-04]\n",
      " [  4.52020616e-04]\n",
      " [  6.80215542e-04]\n",
      " [  9.54291628e-04]\n",
      " [  1.65240541e-03]\n",
      " [  2.83735742e-03]\n",
      " [  6.34962685e-03]\n",
      " [  1.84425324e-02]\n",
      " [  1.21433731e-01]\n",
      " [  6.75070496e-01]\n",
      " [  7.11497731e-01]\n",
      " [  1.19286996e-01]\n",
      " [ -1.08014634e-02]\n",
      " [  5.88036197e-03]\n",
      " [  2.30494570e-03]\n",
      " [  1.17748358e-03]\n",
      " [  1.11554154e-03]\n",
      " [  6.27550584e-04]\n",
      " [  4.72044225e-04]\n",
      " [  3.92322582e-04]\n",
      " [  2.56981403e-04]\n",
      " [  2.20438804e-04]\n",
      " [  1.80336540e-04]\n",
      " [  1.42791264e-04]\n",
      " [  1.38397061e-04]\n",
      " [  1.23067402e-04]\n",
      " [  1.09140381e-04]\n",
      " [  1.29709726e-04]\n",
      " [  1.83462249e-04]\n",
      " [  2.69219437e-04]\n",
      " [  4.23982106e-04]\n",
      " [  3.18986949e-04]\n",
      " [  1.56502838e-04]\n",
      " [  1.05412024e-04]\n",
      " [  6.37201726e-05]\n",
      " [  5.74665416e-05]\n",
      " [  5.83759329e-05]\n",
      " [  4.06567324e-05]\n",
      " [  3.67735143e-05]\n",
      " [  3.67340545e-05]\n",
      " [  2.96438252e-05]\n",
      " [  2.51520384e-05]\n",
      " [  1.96464026e-05]\n",
      " [  1.11741021e-05]\n",
      " [  2.70793589e-05]\n",
      " [  5.57666199e-05]]\n"
     ]
    }
   ],
   "source": [
    "cov_x = np.cov(mat)\n",
    "eig1, eig_vec1 = power_iteration(cov_x, 100000)\n",
    "eig_vec1_transpose = np.reshape(eig_vec1, (1, cov_x.shape[0]))\n",
    "C = eig1 * np.dot(eig_vec1, eig_vec1_transpose)\n",
    "B = cov_x - C\n",
    "eig2, eig_vec2 = power_iteration(B, 100000)\n",
    "eig_vec1 = np.asarray(eig_vec1)\n",
    "eig_vec2 = np.asarray(eig_vec2)\n",
    "print(eig_vec1, eig_vec2)"
   ]
  },
  {
   "cell_type": "code",
   "execution_count": 6,
   "metadata": {
    "collapsed": false
   },
   "outputs": [
    {
     "data": {
      "text/plain": [
       "(128, 1)"
      ]
     },
     "execution_count": 6,
     "metadata": {},
     "output_type": "execute_result"
    }
   ],
   "source": [
    "type(eig_vec1)\n",
    "eig_vec1.shape"
   ]
  },
  {
   "cell_type": "code",
   "execution_count": 17,
   "metadata": {
    "collapsed": false
   },
   "outputs": [
    {
     "data": {
      "image/png": "[encoded data removed]",
      "text/plain": [
       "<matplotlib.figure.Figure at 0x21d60708ba8>"
      ]
     },
     "metadata": {},
     "output_type": "display_data"
    }
   ],
   "source": [
    "plt.imshow(eig_vec1, cmap='inferno', aspect = 0.01)\n",
    "plt.title(\"1st Eigen vector\")\n",
    "plt.rcParams[\"figure.figsize\"] = [8,5]\n",
    "plt.show()"
   ]
  },
  {
   "cell_type": "code",
   "execution_count": 8,
   "metadata": {
    "collapsed": false
   },
   "outputs": [
    {
     "data": {
      "image/png": "[encoded data removed]",
      "text/plain": [
       "<matplotlib.figure.Figure at 0x21d5eb11a58>"
      ]
     },
     "metadata": {},
     "output_type": "display_data"
    }
   ],
   "source": [
    "plt.imshow(eig_vec2, cmap='inferno', aspect = 0.01)\n",
    "plt.title(\"2nd eigen vector is\")\n",
    "plt.rcParams[\"figure.figsize\"] = [8,5]\n",
    "plt.show()"
   ]
  },
  {
   "cell_type": "code",
   "execution_count": 9,
   "metadata": {
    "collapsed": false
   },
   "outputs": [
    {
     "name": "stdout",
     "output_type": "stream",
     "text": [
      "(2, 128, 1)\n",
      "(128, 1)\n"
     ]
    }
   ],
   "source": [
    "eig_vec1.shape\n",
    "eig_vec2.shape\n",
    "eig_vec = [eig_vec1, eig_vec2]\n",
    "eig_vec = np.asarray(eig_vec)\n",
    "print(eig_vec.shape)\n",
    "eig_vec = np.reshape(eig_vec, (2, 128))\n",
    "print(eig_vec1.shape)"
   ]
  },
  {
   "cell_type": "code",
   "execution_count": 10,
   "metadata": {
    "collapsed": false
   },
   "outputs": [
    {
     "data": {
      "image/png": "[encoded data removed]",
      "text/plain": [
       "<matplotlib.figure.Figure at 0x21d5f203e10>"
      ]
     },
     "metadata": {},
     "output_type": "display_data"
    }
   ],
   "source": [
    "spectra = np.column_stack((eig_vec2,eig_vec1))\n",
    "plt.imshow(spectra, aspect='auto', cmap=plt.get_cmap(\"hot\"))\n",
    "plt.title(\"Representative Spectra\")\n",
    "plt.rcParams[\"figure.figsize\"] = [16,6]\n",
    "plt.show()"
   ]
  },
  {
   "cell_type": "code",
   "execution_count": 11,
   "metadata": {
    "collapsed": true
   },
   "outputs": [],
   "source": [
    "#Temporal Activation\n",
    "activation = np.dot(spectra.transpose(), mat)"
   ]
  },
  {
   "cell_type": "code",
   "execution_count": 12,
   "metadata": {
    "collapsed": false
   },
   "outputs": [
    {
     "data": {
      "image/png": "[encoded data removed]",
      "text/plain": [
       "<matplotlib.figure.Figure at 0x21d5f209860>"
      ]
     },
     "metadata": {},
     "output_type": "display_data"
    }
   ],
   "source": [
    "plt.imshow(activation, cmap='inferno', aspect = 10)\n",
    "plt.title(\"Activation function is\")\n",
    "plt.rcParams[\"figure.figsize\"] = [10,16]\n",
    "plt.show()"
   ]
  },
  {
   "cell_type": "code",
   "execution_count": 13,
   "metadata": {
    "collapsed": true
   },
   "outputs": [],
   "source": [
    "notes = np.dot(eig_vec, mat)\n",
    "notes = np.asarray(notes)\n",
    "note1 = np.dot(mat.transpose(), eig_vec1)\n",
    "note2 = np.dot(mat.transpose(), eig_vec2)"
   ]
  },
  {
   "cell_type": "markdown",
   "metadata": {},
   "source": [
    "Displaying the first recovered note"
   ]
  },
  {
   "cell_type": "code",
   "execution_count": 14,
   "metadata": {
    "collapsed": false
   },
   "outputs": [
    {
     "data": {
      "image/png": "[encoded data removed]",
      "text/plain": [
       "<matplotlib.figure.Figure at 0x21d5f0494a8>"
      ]
     },
     "metadata": {},
     "output_type": "display_data"
    }
   ],
   "source": [
    "plt.imshow(note1.transpose(), cmap='inferno', aspect = 10)\n",
    "plt.title(\"1st note is\")\n",
    "plt.rcParams[\"figure.figsize\"] = [10,16]\n",
    "plt.show()"
   ]
  },
  {
   "cell_type": "markdown",
   "metadata": {},
   "source": [
    "Displaying the second recovered note"
   ]
  },
  {
   "cell_type": "code",
   "execution_count": 15,
   "metadata": {
    "collapsed": false
   },
   "outputs": [
    {
     "data": {
      "image/png": "[encoded data removed]",
      "text/plain": [
       "<matplotlib.figure.Figure at 0x21d609bac18>"
      ]
     },
     "metadata": {},
     "output_type": "display_data"
    }
   ],
   "source": [
    "plt.imshow(note2.transpose(), cmap='inferno', aspect = 10)\n",
    "plt.title(\"2nd note is\")\n",
    "plt.rcParams[\"figure.figsize\"] = [10,16]\n",
    "plt.show()"
   ]
  }
 ],
 "metadata": {
  "anaconda-cloud": {},
  "kernelspec": {
   "display_name": "Python [default]",
   "language": "python",
   "name": "python3"
  },
  "language_info": {
   "codemirror_mode": {
    "name": "ipython",
    "version": 3
   },
   "file_extension": ".py",
   "mimetype": "text/x-python",
   "name": "python",
   "nbconvert_exporter": "python",
   "pygments_lexer": "ipython3",
   "version": "3.5.2"
  }
 },
 "nbformat": 4,
 "nbformat_minor": 2
}
